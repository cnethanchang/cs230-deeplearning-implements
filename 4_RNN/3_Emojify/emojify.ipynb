{
 "cells": [
  {
   "cell_type": "code",
   "execution_count": 1,
   "metadata": {
    "collapsed": true
   },
   "outputs": [],
   "source": [
    "import os\n",
    "import sys\n",
    "sys.path.append( os.path.abspath(\"../../workspace/python-work/python 3/cs230_deeplearning_implement/ec_code/\")  )\n",
    "from class5.week2.Emojify.emo_utils import *\n",
    "\n",
    "import numpy as np\n",
    "import emoji\n",
    "import matplotlib.pyplot as plt\n",
    "\n",
    "%matplotlib inline\n",
    "\n",
    "# Emoji表情生成器\n",
    "# 比如写下“Congratulations on the promotion! Lets get coffee and talk. Love you!”\n",
    "# ，那么你的表情生成器就会自动生成\n",
    "# “ Congratulations on the promotion! 👍 Lets get coffee and talk. ☕️ Love you! ❤️”\n",
    "\n",
    "\n",
    "#1 - 基准模型：Emojifier-V1     \n",
    "#    对于每个sentence，求出多个word的avg(50,1)，求出对应的w（5,50）  根据y(5,m)训练\n",
    "#       Emojifier-V1是有缺陷的，比如它不会把“you are not happy”划分为不好一类，\n",
    "#=======因为它只是将所有单词的向量做了平均，没有关心过顺序\n",
    "#   1.1 数据集\n",
    "#   1.2 - Emojifier-V1的结构\n",
    "#   1.3 - 实现Emojifier-V1\n",
    "#   1.4 - 验证测试集\n",
    "\n",
    "\n",
    "# 2 - Emojifier-V2：在Keras中使用LSTM模块\n",
    "#   2.1 - 模型预览\n",
    "#   2.2 - Keras与mini-batching\n",
    "#   2.3 - 嵌入层（ The Embedding layer）\n",
    "#   4.4 - 构建Emojifier-V2\n"
   ]
  },
  {
   "cell_type": "code",
   "execution_count": 2,
   "metadata": {},
   "outputs": [
    {
     "name": "stdout",
     "output_type": "stream",
     "text": [
      "10\nI am so impressed by your dedication to this project\n"
     ]
    }
   ],
   "source": [
    "X_train, Y_train = read_csv(r'C:\\workspace\\python-work\\python 3\\cs230_deeplearning_implement\\ec_code\\class5\\week2\\Emojify\\data\\train_emoji.csv')\n",
    "X_test, Y_test = read_csv(r'C:\\workspace\\python-work\\python 3\\cs230_deeplearning_implement\\ec_code\\class5\\week2\\Emojify\\data\\tesss.csv')\n",
    "maxLen = len(   max(X_train, key=len).split()    )\n",
    "print(maxLen)\n",
    "print(max(X_train,key=len))"
   ]
  },
  {
   "cell_type": "code",
   "execution_count": 3,
   "metadata": {},
   "outputs": [
    {
     "name": "stdout",
     "output_type": "stream",
     "text": [
      "Miss you so much ❤️\n<class 'numpy.ndarray'>\nlength= 5\n0 ==> ❤️\n1 ==> ⚾\n2 ==> 😄\n3 ==> 😞\n4 ==> 🍴\n"
     ]
    }
   ],
   "source": [
    "index = 3\n",
    "print(X_train[index], label_to_emoji(Y_train[index]))\n",
    "\n",
    "\n",
    "print(type(Y_train))\n",
    "print(\"length=\",len(set(Y_train)))\n",
    "y_train_set=set(Y_train)\n",
    "\n",
    "for y in y_train_set:\n",
    "    print(y,\"==>\",label_to_emoji(y))\n"
   ]
  },
  {
   "cell_type": "code",
   "execution_count": 4,
   "metadata": {},
   "outputs": [
    {
     "name": "stdout",
     "output_type": "stream",
     "text": [
      "3 is converted into one hot [0. 0. 0. 1. 0.]\n"
     ]
    }
   ],
   "source": [
    "#Emojifier-V1的结构\n",
    "#模型的输入是一段文字（比如“l lov you”），输出的是维度为(1,5)的向量，\n",
    "# 最后在argmax层找寻最大可能性的输出。\n",
    "\n",
    "\n",
    "#现在将标签Y转换成softmax分类器所需要的格式，即从(m,1)转换为独热编码(m,5)，\n",
    "# 每一行都是经过编码后的样本， 其中Y_oh指的是“Y-one-hot”。\n",
    "Y_oh_train = convert_to_one_hot(Y_train, C = 5)\n",
    "Y_oh_test = convert_to_one_hot(Y_test, C = 5)\n",
    "\n",
    "index = 2\n",
    "print(Y_train[index], \"is converted into one hot\", Y_oh_train[index])"
   ]
  },
  {
   "cell_type": "code",
   "execution_count": 5,
   "metadata": {},
   "outputs": [
    {
     "name": "stdout",
     "output_type": "stream",
     "text": [
      "Epoch: 0 --- cost = 1.9520498812810072\nAccuracy: 0.3484848484848485\n"
     ]
    },
    {
     "name": "stdout",
     "output_type": "stream",
     "text": [
      "Epoch: 100 --- cost = 0.07971818726014807\nAccuracy: 0.9318181818181818\n"
     ]
    },
    {
     "name": "stdout",
     "output_type": "stream",
     "text": [
      "Epoch: 200 --- cost = 0.04456369243681402\nAccuracy: 0.9545454545454546\n"
     ]
    },
    {
     "name": "stdout",
     "output_type": "stream",
     "text": [
      "Epoch: 300 --- cost = 0.03432267378786059\nAccuracy: 0.9696969696969697\n"
     ]
    },
    {
     "name": "stdout",
     "output_type": "stream",
     "text": [
      "Training set:\nAccuracy: 0.9772727272727273\nTest set:\nAccuracy: 0.8571428571428571\n"
     ]
    }
   ],
   "source": [
    "word_to_index, index_to_word, word_to_vec_map =read_glove_vecs(r\"C:\\workspace\\python-work\\python 3\\cs230_deeplearning_implement\\ec_code\\class5\\week2\\Emojify\\data\\glove6B50d.txt\")\n",
    "#word_to_index：字典类型的词汇（400,001个）与索引的映射（有效范围：0-400,000）\n",
    "# index_to_word：字典类型的索引与词汇之间的映射。\n",
    "# word_to_vec_map：字典类型的词汇与对应GloVe向量的映射。\n",
    "\n",
    "word = \"cucumber\"\n",
    "index = 113317\n",
    "print(\"the index of\", word, \"in the vocabulary is\", word_to_index[word])\n",
    "print(\"the\", str(index) + \"th word in the vocabulary is\", index_to_word[index])\n"
   ]
  },
  {
   "cell_type": "code",
   "execution_count": 6,
   "metadata": {},
   "outputs": [
    {
     "name": "stdout",
     "output_type": "stream",
     "text": [
      "Epoch: 0 --- cost = 1.9520498812810072\nAccuracy: 0.3484848484848485\n"
     ]
    },
    {
     "name": "stdout",
     "output_type": "stream",
     "text": [
      "Epoch: 100 --- cost = 0.07971818726014807\nAccuracy: 0.9318181818181818\n"
     ]
    },
    {
     "name": "stdout",
     "output_type": "stream",
     "text": [
      "Epoch: 200 --- cost = 0.04456369243681402\nAccuracy: 0.9545454545454546\n"
     ]
    },
    {
     "name": "stdout",
     "output_type": "stream",
     "text": [
      "Epoch: 300 --- cost = 0.03432267378786059\nAccuracy: 0.9696969696969697\n"
     ]
    },
    {
     "name": "stdout",
     "output_type": "stream",
     "text": [
      "Training set:\nAccuracy: 0.9772727272727273\nTest set:\nAccuracy: 0.8571428571428571\n"
     ]
    }
   ],
   "source": [
    "# GRADED FUNCTION: sentence_to_avg\n",
    "def sentence_to_avg(sentence, word_to_vec_map):\n",
    "    ''' \n",
    "   将句子转换为单词列表，提取其GloVe向量，然后将其平均。\n",
    "    参数：\n",
    "        sentence -- 字符串类型，从X中获取的样本。\n",
    "        word_to_vec_map -- 字典类型，单词映射到50维的向量的字典\n",
    "        \n",
    "    返回：\n",
    "        avg -- 对句子的均值编码，维度为(50,)\n",
    "    '''    \n",
    "    # 第一步：分割句子，转换为列表。\n",
    "    words = sentence.lower().split()\n",
    "    # 初始化均值词向量\n",
    "    avg = np.zeros(50,)\n",
    "    # 第二步：对词向量取平均。\n",
    "    for w in words:\n",
    "        avg += word_to_vec_map[w]\n",
    "    avg = np.divide(avg, len(words))\n",
    "    return avg\n",
    "\n",
    "\n",
    "\n",
    "\n",
    "# GRADED FUNCTION: model\n",
    "def model(X, Y, word_to_vec_map, learning_rate = 0.01, num_iterations = 400):\n",
    "    \"\"\"\n",
    "    在numpy中训练词向量模型。\n",
    "    \n",
    "    参数：\n",
    "        X -- 输入的字符串类型的数据，维度为(m, 1)。\n",
    "        Y -- 对应的标签，0-7的数组，维度为(m, 1)。\n",
    "        word_to_vec_map -- 字典类型的单词到50维词向量的映射。\n",
    "        learning_rate -- 学习率.\n",
    "        num_iterations -- 迭代次数。\n",
    "        \n",
    "    返回：\n",
    "        pred -- 预测的向量，维度为(m, 1)。\n",
    "        W -- 权重参数，维度为(n_y, n_h)。\n",
    "        b -- 偏置参数，维度为(n_y,)\n",
    "    \"\"\"\n",
    "    np.random.seed(1)\n",
    "\n",
    "    # Define number of training examples\n",
    "    m = Y.shape[0]                          # number of training examples\n",
    "    n_y = 5                                 # number of classes  \n",
    "    n_h = 50                                # dimensions of the GloVe vectors \n",
    "    \n",
    "    # Initialize parameters using Xavier initialization\n",
    "    W = np.random.randn(n_y, n_h) / np.sqrt(n_h)\n",
    "    b = np.zeros((n_y,))\n",
    "    \n",
    "    # Convert Y to Y_onehot with n_y classes\n",
    "    Y_oh = convert_to_one_hot(Y, C = n_y) \n",
    "    \n",
    "    # Optimization loop\n",
    "    for t in range(num_iterations):                       # Loop over the number of iterations\n",
    "        for i in range(m):                                # Loop over the training examples\n",
    "            \n",
    "            # 获取第i个训练样本的均值\n",
    "            avg = sentence_to_avg(X[i], word_to_vec_map)\n",
    "            \n",
    "            # 前向传播\n",
    "            z = np.dot(W, avg) + b\n",
    "            a = softmax(z)\n",
    "            \n",
    "            # 计算第i个训练的损失\n",
    "            cost = -np.sum(Y_oh[i]*np.log(a))\n",
    "            \n",
    "            # 计算梯度\n",
    "            dz = a - Y_oh[i]\n",
    "            dW = np.dot(dz.reshape(n_y,1), avg.reshape(1, n_h))\n",
    "            db = dz\n",
    "            \n",
    "            # 更新参数\n",
    "            W = W - learning_rate * dW\n",
    "            b = b - learning_rate * db\n",
    "        if t % 100 == 0:\n",
    "            print(\"Epoch: \" + str(t) + \" --- cost = \" + str(cost))\n",
    "            pred = predict(X, Y, W, b, word_to_vec_map)\n",
    "    return pred, W, b\n",
    "\n",
    "\n",
    "\n",
    "pred, W, b = model(X_train, Y_train, word_to_vec_map)\n",
    "\n",
    "print(\"Training set:\")\n",
    "pred_train = predict(X_train, Y_train, W, b, word_to_vec_map)\n",
    "print('Test set:')\n",
    "pred_test = predict(X_test, Y_test, W, b, word_to_vec_map)\n"
   ]
  },
  {
   "cell_type": "code",
   "execution_count": 7,
   "metadata": {},
   "outputs": [
    {
     "name": "stdout",
     "output_type": "stream",
     "text": [
      "Accuracy: 0.6666666666666666\n\ni adore you ❤️\nyou are happy ❤️\nyou are not happy ❤️\n"
     ]
    }
   ],
   "source": [
    "X_my_sentences = np.array([\"i adore you\", \"you are happy\",  \"you are not happy\"])\n",
    "Y_my_labels = np.array([[0], [0],[3]])\n",
    "\n",
    "pred = predict(X_my_sentences, Y_my_labels , W, b, word_to_vec_map)\n",
    "print_predictions(X_my_sentences, pred)"
   ]
  },
  {
   "cell_type": "code",
   "execution_count": 10,
   "metadata": {},
   "outputs": [
    {
     "name": "stdout",
     "output_type": "stream",
     "text": [
      "_________________________________________________________________\nLayer (type)                 Output Shape              Param #   \n=================================================================\ninput_2 (InputLayer)         (None, 10)                0         \n_________________________________________________________________\nembedding_2 (Embedding)      (None, 10, 50)            20000050  \n_________________________________________________________________\nlstm_3 (LSTM)                (None, 10, 128)           91648     \n_________________________________________________________________\ndropout_3 (Dropout)          (None, 10, 128)           0         \n_________________________________________________________________\nlstm_4 (LSTM)                (None, 128)               131584    \n_________________________________________________________________\ndropout_4 (Dropout)          (None, 128)               0         \n_________________________________________________________________\ndense_2 (Dense)              (None, 5)                 645       \n_________________________________________________________________\nactivation_2 (Activation)    (None, 5)                 0         \n=================================================================\nTotal params: 20,223,927\nTrainable params: 223,877\nNon-trainable params: 20,000,050\n_________________________________________________________________\n"
     ]
    }
   ],
   "source": [
    "#Emojifier-V2：在Keras中使用LSTM模块\n",
    "import numpy as np\n",
    "np.random.seed(0)\n",
    "from keras.models import Model\n",
    "from keras.layers import Dense, Input, Dropout, LSTM, Activation\n",
    "from keras.layers.embeddings import Embedding\n",
    "from keras.preprocessing import sequence\n",
    "np.random.seed(1)\n",
    "from keras.initializers import glorot_uniform"
   ]
  },
  {
   "cell_type": "code",
   "execution_count": 12,
   "metadata": {},
   "outputs": [
    {
     "name": "stdout",
     "output_type": "stream",
     "text": [
      "_________________________________________________________________\nLayer (type)                 Output Shape              Param #   \n=================================================================\ninput_2 (InputLayer)         (None, 10)                0         \n_________________________________________________________________\nembedding_2 (Embedding)      (None, 10, 50)            20000050  \n_________________________________________________________________\nlstm_3 (LSTM)                (None, 10, 128)           91648     \n_________________________________________________________________\ndropout_3 (Dropout)          (None, 10, 128)           0         \n_________________________________________________________________\nlstm_4 (LSTM)                (None, 128)               131584    \n_________________________________________________________________\ndropout_4 (Dropout)          (None, 128)               0         \n_________________________________________________________________\ndense_2 (Dense)              (None, 5)                 645       \n_________________________________________________________________\nactivation_2 (Activation)    (None, 5)                 0         \n=================================================================\nTotal params: 20,223,927\nTrainable params: 223,877\nNon-trainable params: 20,000,050\n_________________________________________________________________\n"
     ]
    }
   ],
   "source": [
    "#Keras与mini-batching\n",
    "# 在这个部分中，我们会使用mini-batches来训练Keras模型，\n",
    "# 但是大部分深度学习框架需要使用相同的长度的文字，这是因为如果你使用3个单词与4个单词的句子，\n",
    "# 那么转化为向量之后，计算步骤就有所不同（一个是需要3个LSTM，另一个需要4个LSTM），所以我们不可能对这些句子进行同时训练。\n",
    "# \n",
    "# 那么通用的解决方案是使用填充。指定最长句子的长度，然后对其他句子进行填充到相同长度。\n",
    "# 比如：指定最大的句子的长度为20，我们可以对每个句子使用“0”来填充，直到句子长度为20，\n",
    "# 因此，句子“I love you”就可以表示为(eI,elove,eyou,0⃗ ,0⃗ ,…,0⃗ )\n",
    "# 在这个例子中，任何任何一个超过20个单词的句子将被截取，所以一个比较简单的方式就是找到最长句子，获取它的长度，然后指定它的长度为最长句子的长度。\n",
    "# GRADED FUNCTION: sentences_to_indices\n",
    "def sentences_to_indices(X, word_to_index, max_len):\n",
    "    \"\"\"\n",
    "    输入的是X（字符串类型的句子的数组），再转化为对应的句子列表，\n",
    "    输出的是能够让Embedding()函数接受的列表或矩阵（参见图4）。\n",
    "    \n",
    "    参数：\n",
    "        X -- 句子数组，维度为(m, 1)\n",
    "        word_to_index -- 字典类型的单词到索引的映射\n",
    "        max_len -- 最大句子的长度，数据集中所有的句子的长度都不会超过它。\n",
    "        \n",
    "    返回：\n",
    "        X_indices -- 对应于X中的单词索引数组，维度为(m, max_len)\n",
    "    \"\"\"\n",
    "    m = X.shape[0]                                   # number of training examples\n",
    "    # 使用0初始化X_indices\n",
    "    X_indices = np.zeros((m, max_len))\n",
    "    for i in range(m):\n",
    "        # 将第i个居住转化为小写并按单词分开。\n",
    "        sentences_words = X[i].lower().split()\n",
    "        # 初始化j为0\n",
    "        j = 0\n",
    "        # 遍历这个单词列表\n",
    "        for w in sentences_words:\n",
    "            # 将X_indices的第(i, j)号元素为对应的单词索引\n",
    "            X_indices[i, j] = word_to_index[w]\n",
    "            j += 1\n",
    "    return X_indices\n",
    "\n",
    "\n",
    "\n",
    "\n",
    "# GRADED FUNCTION: pretrained_embedding_layer\n",
    "def pretrained_embedding_layer(word_to_vec_map, word_to_index):\n",
    "    \"\"\"\n",
    "    创建Keras Embedding()层，加载已经训练好了的50维GloVe向量\n",
    "    参数：\n",
    "        word_to_vec_map -- 字典类型的单词与词嵌入的映射\n",
    "        word_to_index -- 字典类型的单词到词汇表（400,001个单词）的索引的映射。\n",
    "    返回：\n",
    "        embedding_layer() -- 训练好了的Keras的实体层=========>相当于得到E,(40000,50)\n",
    "    \"\"\"\n",
    "    vocab_len = len(word_to_index) + 1    # adding 1 to fit Keras embedding (requirement)\n",
    "    emb_dim = word_to_vec_map[\"cucumber\"].shape[0]      # =50  define dimensionality of your GloVe word vectors \n",
    "    \n",
    "    # 初始化嵌入矩阵\n",
    "    emb_matrix = np.zeros((vocab_len, emb_dim))\n",
    "    \n",
    "    # 将嵌入矩阵的每行的“index”设置为词汇“index”的词向量表示\n",
    "    for word, index in word_to_index.items():\n",
    "        emb_matrix[index, :] = word_to_vec_map[word]\n",
    "    #========================================================\n",
    "    #========================================================\n",
    "    #========================================================\n",
    "    #========================================================\n",
    "    # 定义Keras的embbeding层\n",
    "    #在Keras中定义嵌入层，当调用Embedding()的时候需要让这一层的参数不能被训练\n",
    "    #所以我们可以设置trainable=False。\n",
    "    embedding_layer = Embedding(vocab_len, emb_dim, trainable=False)\n",
    "    # 构建embedding层\n",
    "    embedding_layer.build((None,))\n",
    "    # 将嵌入层的权重设置为嵌入矩阵。\n",
    "    embedding_layer.set_weights([emb_matrix])\n",
    "    return embedding_layer\n",
    "\n",
    "\n",
    "\n",
    "# GRADED FUNCTION: Emojify_V2\n",
    "def Emojify_V2(input_shape, word_to_vec_map, word_to_index):\n",
    "    \"\"\"\n",
    "    构建Emojifier-V2\n",
    "    实现Emojify-V2模型的计算图\n",
    "    参数：\n",
    "        input_shape -- 输入的维度，通常是(max_len,)\n",
    "        word_to_vec_map -- 字典类型的单词与词嵌入的映射。\n",
    "        word_to_index -- 字典类型的单词到词汇表（400,001个单词）的索引的映射。\n",
    "    返回：\n",
    "        model -- Keras模型实体\n",
    "    \"\"\"\n",
    "    # 定义sentence_indices为计算图的输入，维度为(input_shape,)，类型为dtype 'int32'\n",
    "    # 模型的输入是(m, max_len)，定义在了input_shape中\n",
    "    sentence_indices = Input(input_shape, dtype='int32')\n",
    "    \n",
    "    # 创建embedding层,得到E\n",
    "    embedding_layer = pretrained_embedding_layer(word_to_vec_map, word_to_index)\n",
    "    \n",
    "    # 通过嵌入层传播sentence_indices，你会得到嵌入的结果====>(50，m,max_len)\n",
    "    embeddings = embedding_layer(sentence_indices)\n",
    "    \n",
    "    # 通过带有128维隐藏状态的LSTM层传播嵌入  n_a=128\n",
    "    # 需要注意的是，返回的输出应该是一批序列。\n",
    "    X = LSTM(128, return_sequences=True)(embeddings)\n",
    "    # 使用dropout，概率为0.5\n",
    "    X = Dropout(0.5)(X)\n",
    "    # 通过另一个128维隐藏状态的LSTM层传播X\n",
    "    # 注意，返回的输出应该是单个隐藏状态，而不是一组序列===>只有a,没有y\n",
    "    X = LSTM(128, return_sequences=False)(X)    #(n_a,m)\n",
    "    # 使用dropout，概率为0.5\n",
    "    X = Dropout(0.5)(X)\n",
    "    # 通过softmax激活的Dense层传播X，得到一批5维向量。\n",
    "    X = Dense(5)(X)  #（5，m）\n",
    "    # 添加softmax激活\n",
    "    X = Activation('softmax')(X)     #(1,m)\n",
    "    \n",
    "    # 创建模型实体\n",
    "    model = Model(inputs=sentence_indices, outputs=X)\n",
    "    return model\n",
    "\n",
    "\n",
    "model = Emojify_V2(  (maxLen,), word_to_vec_map, word_to_index)\n",
    "model.summary()\n",
    "#可以看到有“20,223,927”个参数，其中“20,000,050”个参数没有被训练（这是因为它是词向量）\n",
    "#剩下的是有“223,877”被训练了的。因为我们的单词表有400,001个单词，\n",
    "# 所以是400,001∗50=20,000,050 400,001*50=20,000,050400,001∗50=20,000,050个不可训练的参数\n"
   ]
  },
  {
   "cell_type": "code",
   "execution_count": 14,
   "metadata": {},
   "outputs": [
    {
     "name": "stdout",
     "output_type": "stream",
     "text": [
      "\r32/56 [================>.............] - ETA: 0s"
     ]
    },
    {
     "name": "stdout",
     "output_type": "stream",
     "text": [
      "\b\b\b\b\b\b\b\b\b\b\b\b\b\b\b\b\b\b\b\b\b\b\b\b\b\b\b\b\b\b\b\b\b\b\b\b\b\b\b\b\b\b\b\b\b\b\b\b\r56/56 [==============================] - 0s 892us/step\n"
     ]
    },
    {
     "name": "stdout",
     "output_type": "stream",
     "text": [
      "Test accuracy =  0.8750000085149493\n"
     ]
    }
   ],
   "source": [
    "#使用categorical_crossentropy 损失, adam 优化器与 [‘accuracy’] 指标。\n",
    "model.compile(loss='categorical_crossentropy', optimizer='adam', metrics=['accuracy'])\n",
    "X_train_indices = sentences_to_indices(X_train, word_to_index, maxLen)\n",
    "Y_train_oh = convert_to_one_hot(Y_train, C = 5)\n",
    "\n",
    "model.fit(X_train_indices, Y_train_oh, epochs = 50, batch_size = 32, shuffle=True)"
   ]
  },
  {
   "cell_type": "code",
   "execution_count": 16,
   "metadata": {},
   "outputs": [
    {
     "name": "stdout",
     "output_type": "stream",
     "text": [
      "\r32/56 [================>.............] - ETA: 0s"
     ]
    },
    {
     "name": "stdout",
     "output_type": "stream",
     "text": [
      "\b\b\b\b\b\b\b\b\b\b\b\b\b\b\b\b\b\b\b\b\b\b\b\b\b\b\b\b\b\b\b\b\b\b\b\b\b\b\b\b\b\b\b\b\b\b\b\b\r56/56 [==============================] - 0s 892us/step\n"
     ]
    },
    {
     "name": "stdout",
     "output_type": "stream",
     "text": [
      "Test accuracy =  0.8750000085149493\n"
     ]
    }
   ],
   "source": [
    "#看在测试集的表现\n",
    "X_test_indices = sentences_to_indices(X_test, word_to_index, max_len = maxLen)\n",
    "Y_test_oh = convert_to_one_hot(Y_test, C = 5)\n",
    "loss, acc = model.evaluate(X_test_indices, Y_test_oh)\n",
    "print(\"Test accuracy = \", acc)\n"
   ]
  },
  {
   "cell_type": "code",
   "execution_count": 19,
   "metadata": {},
   "outputs": [
    {
     "name": "stdout",
     "output_type": "stream",
     "text": [
      "i like this 😄\n"
     ]
    }
   ],
   "source": [
    "# This code allows you to see the mislabelled examples\n",
    "#看哪些被分类错误了\n",
    "C = 5\n",
    "y_test_oh = np.eye(C)[Y_test.reshape(-1)]\n",
    "X_test_indices = sentences_to_indices(X_test, word_to_index, maxLen)\n",
    "pred = model.predict(X_test_indices)\n",
    "for i in range(len(X_test)):\n",
    "    x = X_test_indices\n",
    "    num = np.argmax(pred[i])\n",
    "    if(num != Y_test[i]):\n",
    "        print('Expected emoji:'+ label_to_emoji(Y_test[i]) + ' prediction: '+ X_test[i] + label_to_emoji(num).strip())\n"
   ]
  },
  {
   "cell_type": "code",
   "execution_count": 22,
   "metadata": {},
   "outputs": [
    {
     "name": "stdout",
     "output_type": "stream",
     "text": [
      "i like this 😄\n"
     ]
    }
   ],
   "source": [
    "# Change the sentence below to see your prediction. Make sure all the words are in the Glove embeddings.  \n",
    "x_test = np.array(['i like this'])\n",
    "X_test_indices = sentences_to_indices(x_test, word_to_index, maxLen)\n",
    "print(x_test[0] +' '+  label_to_emoji(np.argmax(model.predict(X_test_indices))))\n"
   ]
  },
  {
   "cell_type": "code",
   "execution_count": null,
   "metadata": {},
   "outputs": [],
   "source": []
  }
 ],
 "metadata": {
  "kernelspec": {
   "display_name": "Python 2",
   "language": "python",
   "name": "python2"
  },
  "language_info": {
   "codemirror_mode": {
    "name": "ipython",
    "version": 2
   },
   "file_extension": ".py",
   "mimetype": "text/x-python",
   "name": "python",
   "nbconvert_exporter": "python",
   "pygments_lexer": "ipython2",
   "version": "2.7.6"
  }
 },
 "nbformat": 4,
 "nbformat_minor": 0
}
