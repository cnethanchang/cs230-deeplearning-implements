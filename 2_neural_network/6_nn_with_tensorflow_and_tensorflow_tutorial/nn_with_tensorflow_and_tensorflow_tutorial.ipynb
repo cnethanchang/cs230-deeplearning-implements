{
 "cells": [
  {
   "cell_type": "code",
   "execution_count": 1,
   "metadata": {
    "collapsed": true
   },
   "outputs": [],
   "source": [
    "import os\n",
    "import sys\n",
    "sys.path.append( os.path.abspath(\"../../workspace/python-work/python 3/cs230_deeplearning_implement/ec_code/\")  )\n",
    "from class2.week3.assignment3.tf_utils import load_dataset, random_mini_batches, convert_to_one_hot, predict\n",
    "import time\n",
    "import math\n",
    "import numpy as np\n",
    "import h5py\n",
    "import matplotlib.pyplot as plt\n",
    "import tensorflow as tf\n",
    "from tensorflow.python.framework import ops\n",
    "\"\"\"\n",
    "学习TensorFlow这个框架：\n",
    "    初始化变量\n",
    "    建立一个会话\n",
    "    训练的算法\n",
    "    实现一个神经网络\n",
    "    使用框架编程不仅可以节省你的写代码时间，还可以让你的优化速度更快。\n",
    "\"\"\"\n",
    "\n",
    "%matplotlib inline\n",
    "np.random.seed(1)\n",
    "\n"
   ]
  },
  {
   "cell_type": "code",
   "execution_count": 2,
   "metadata": {},
   "outputs": [
    {
     "name": "stdout",
     "output_type": "stream",
     "text": [
      "WARNING:tensorflow:From C:\\software_installed_cs\\Anaconda3\\envs\\tensorflow2\\lib\\site-packages\\tensorflow\\python\\framework\\op_def_library.py:263: colocate_with (from tensorflow.python.framework.ops) is deprecated and will be removed in a future version.\nInstructions for updating:\nColocations handled automatically by placer.\n"
     ]
    },
    {
     "name": "stdout",
     "output_type": "stream",
     "text": [
      "9\n"
     ]
    }
   ],
   "source": [
    "#计算损失的公式： \n",
    "# loss=L(y^,y)=(y^(i)−y(i))**2\n",
    "y_hat = tf.constant(36,name=\"y_hat\")\n",
    "y=tf.constant(39,name=\"y\")\n",
    "\n",
    "loss=tf.Variable( (y-y_hat)**2,name=\"loss\")\n",
    "\n",
    "# When init is run later (session.run(init))\n",
    "# the loss variable will be initialized and ready to be computed\n",
    "init=tf.global_variables_initializer()\n",
    "\n",
    "with tf.Session() as session:\n",
    "    #print(type(session)) #<class 'tensorflow.python.client.session.Session'>\n",
    "    session.run(init)\n",
    "    #print(type(init))    #<class 'tensorflow.python.framework.ops.Operation'>\n",
    "    print(session.run(loss)) \n",
    "    #print(type(loss))    #<class 'tensorflow.python.ops.variables.RefVariable'>\n",
    "    \n",
    "\n",
    "# 对于Tensorflow的代码实现而言，实现代码的结构如下：\n",
    "#     创建Tensorflow变量（此时，尚未直接计算）\n",
    "#     实现Tensorflow变量之间的操作定义\n",
    "#     初始化Tensorflow变量\n",
    "#     创建Session\n",
    "#     运行Session，此时，之前编写操作都会在这一步运行。\n",
    "# \n",
    "# 因此，当我们为损失函数创建一个变量时，我们简单地将损失定义为其他数量的函数，\n",
    "# 但没有评估它的价值。 为了评估它，我们需要运行init=tf.global_variables_initializer()，\n",
    "# 初始化损失变量，在最后一行，我们最后能够评估损失的值并打印它的值。\n",
    "\n"
   ]
  },
  {
   "cell_type": "code",
   "execution_count": 19,
   "metadata": {},
   "outputs": [
    {
     "name": "stdout",
     "output_type": "stream",
     "text": [
      "<class 'tensorflow.python.framework.ops.Tensor'> Tensor(\"Const_2:0\", shape=(), dtype=int32)\n<class 'tensorflow.python.framework.ops.Tensor'> Tensor(\"Mul_9:0\", shape=(), dtype=int32)\n268\n"
     ]
    }
   ],
   "source": [
    "a=tf.constant(2)\n",
    "b=tf.constant(134)\n",
    "c=tf.multiply(a,b)\n",
    "print(type(a),a)\n",
    "print(type(c),c)\n",
    "#并没有看到结果248，不过我们得到了一个Tensor类型的变量，没有维度，数字类型为int32。\n",
    "# 之前所做的一切都只是把这些东西放到了一个“计算图(computation graph)”中，\n",
    "# 而还没有开始运行这个计算图，为了实际计算这两个数字，需要创建一个会话并运行它\n",
    "\n",
    "print( tf.Session().run(c)  )\n",
    " "
   ]
  },
  {
   "cell_type": "code",
   "execution_count": 18,
   "metadata": {},
   "outputs": [
    {
     "name": "stdout",
     "output_type": "stream",
     "text": [
      "<class 'tensorflow.python.framework.ops.Tensor'> Tensor(\"Placeholder_4:0\", dtype=int64)\n<class 'tensorflow.python.framework.ops.Tensor'>\n15\n"
     ]
    }
   ],
   "source": [
    "#placeholders占位符是一个对象，它的值只能在稍后指定，\n",
    "# 要指定占位符的值，可以使用一个feed字典（feed_dict变量）来传入\n",
    "x=tf.placeholder(tf.int64)\n",
    "print(type(x),x)\n",
    "sess=tf.Session()\n",
    "print(type(x))\n",
    "print( sess.run(3*x,feed_dict={x:5} ))\n",
    "sess.close()\n"
   ]
  },
  {
   "cell_type": "code",
   "execution_count": 17,
   "metadata": {},
   "outputs": [
    {
     "name": "stdout",
     "output_type": "stream",
     "text": [
      "<class 'tensorflow.python.framework.ops.Tensor'> Tensor(\"add_1:0\", shape=(4, 1), dtype=float64)\n[[-2.15657382]\n [ 2.95891446]\n [-1.08926781]\n [-0.84538042]]\n"
     ]
    }
   ],
   "source": [
    "#Y=WX+b\n",
    "def linear_function():\n",
    "    np.random.seed(1)\n",
    "    X=np.random.randn(3,1)\n",
    "    W=np.random.randn(4,3)\n",
    "    b=np.random.randn(4,1)\n",
    "    Y=tf.matmul(W,X)+b\n",
    "    print(type(Y),Y)\n",
    "    \n",
    "    sess=tf.Session()\n",
    "    reslut=sess.run(Y)\n",
    "    print(reslut)\n",
    "    sess.close()\n",
    "    \n",
    "linear_function()"
   ]
  },
  {
   "cell_type": "code",
   "execution_count": 27,
   "metadata": {},
   "outputs": [
    {
     "name": "stdout",
     "output_type": "stream",
     "text": [
      "0.5\n0.9999938\n"
     ]
    }
   ],
   "source": [
    "def sigmoid(z):\n",
    "    x=tf.placeholder(tf.float32)\n",
    "    #sess = tf.Session()\n",
    "    # result = sess.run(...,feed_dict = {...})\n",
    "    # sess.close()\n",
    "    with tf.Session() as sess:\n",
    "        result=sess.run( tf.sigmoid(x),feed_dict={x:z})\n",
    "        print(result)\n",
    "        \n",
    "sigmoid(0)\n",
    "sigmoid(12)\n",
    "    "
   ]
  },
  {
   "cell_type": "code",
   "execution_count": 49,
   "metadata": {},
   "outputs": [
    {
     "name": "stdout",
     "output_type": "stream",
     "text": [
      "Y = 1\nnumber of training examples = 1080\nnumber of test examples = 120\nX_train shape: (12288, 1080)\nY_train shape: (6, 1080)\nX_test shape: (12288, 120)\nY_test shape: (6, 120)\n"
     ]
    },
    {
     "data": {
      "image/png": "[encoded data removed]",
      "text/plain": [
       "<Figure size 432x288 with 1 Axes>"
      ]
     },
     "metadata": {},
     "output_type": "display_data"
    }
   ],
   "source": [
    "# Loading the dataset\n",
    "X_train_orig, Y_train_orig, X_test_orig, Y_test_orig, classes = load_dataset()\n",
    "\n",
    "index = 11\n",
    "plt.imshow(X_train_orig[index])\n",
    "print(\"Y = \" + str(np.squeeze(Y_train_orig[:,index])))\n",
    "\n",
    "\n",
    "# Flatten the training and test images\n",
    "X_train_flatten = X_train_orig.reshape(X_train_orig.shape[0], -1).T\n",
    "X_test_flatten = X_test_orig.reshape(X_test_orig.shape[0], -1).T\n",
    "# Normalize image vectors\n",
    "X_train = X_train_flatten/255\n",
    "X_test = X_test_flatten/255\n",
    "\n",
    "def ec_convert_to_one_hot(Y, C):\n",
    "    Y = np.eye(C)[Y.reshape(-1)].T\n",
    "    # print(Y,Y.shape)\n",
    "    return Y\n",
    "\n",
    "# Convert training and test labels to one hot matrices\n",
    "Y_train = ec_convert_to_one_hot(Y_train_orig, 6)\n",
    "Y_test = ec_convert_to_one_hot(Y_test_orig, 6)\n",
    "\n",
    "\n",
    "\n",
    "\n",
    "print (\"number of training examples = \" + str(X_train.shape[1]))\n",
    "print (\"number of test examples = \" + str(X_test.shape[1]))\n",
    "print (\"X_train shape: \" + str(X_train.shape))\n",
    "print (\"Y_train shape: \" + str(Y_train.shape))\n",
    "print (\"X_test shape: \" + str(X_test.shape))\n",
    "print (\"Y_test shape: \" + str(Y_test.shape))"
   ]
  },
  {
   "cell_type": "code",
   "execution_count": 61,
   "metadata": {},
   "outputs": [
    {
     "name": "stdout",
     "output_type": "stream",
     "text": [
      "W1 = <tf.Variable 'W1:0' shape=(25, 12288) dtype=float32_ref>\nb1 = <tf.Variable 'b1:0' shape=(25, 1) dtype=float32_ref>\nW2 = <tf.Variable 'W2:0' shape=(12, 25) dtype=float32_ref>\nb2 = <tf.Variable 'b2:0' shape=(12, 1) dtype=float32_ref>\n"
     ]
    }
   ],
   "source": [
    "# GRADED FUNCTION: create_placeholders\n",
    "def create_placeholders(n_x, n_y):\n",
    "    \"\"\"\n",
    "    Creates the placeholders for the tensorflow session.\n",
    "    Arguments:\n",
    "    n_x -- scalar, size of an image vector (num_px * num_px = 64 * 64 * 3 = 12288)\n",
    "    n_y -- scalar, number of classes (from 0 to 5, so -> 6)\n",
    "    Returns:\n",
    "    X -- placeholder for the data input, of shape [n_x, None] and dtype \"float\"\n",
    "    Y -- placeholder for the input labels, of shape [n_y, None] and dtype \"float\"\n",
    "    Tips:\n",
    "    - You will use None because it let's us be flexible on the number of examples you will for the placeholders.\n",
    "      In fact, the number of examples during test/train is different.\n",
    "    \"\"\"\n",
    "    X=tf.placeholder(tf.float32,[n_x,None])\n",
    "    Y=tf.placeholder(tf.float32,[n_y,None])\n",
    "    return X, Y\n",
    "\n",
    "\n",
    "\n",
    "# GRADED FUNCTION: initialize_parameters\n",
    "def initialize_parameters():\n",
    "    \"\"\"\n",
    "    Initializes parameters to build a neural network with tensorflow. The shapes are:\n",
    "                        W1 : [25, 12288]\n",
    "                        b1 : [25, 1]\n",
    "                        W2 : [12, 25]\n",
    "                        b2 : [12, 1]\n",
    "                        W3 : [6, 12]\n",
    "                        b3 : [6, 1]\n",
    "    Returns:\n",
    "    parameters -- a dictionary of tensors containing W1, b1, W2, b2, W3, b3\n",
    "    \"\"\"\n",
    "    tf.set_random_seed(1)                   # so that your \"random\" numbers match ours\n",
    "    W1=tf.get_variable(\"W1\",[25,12288],initializer=tf.contrib.layers.xavier_initializer(seed=1))\n",
    "    b1=tf.get_variable(\"b1\",[25,1],initializer=tf.zeros_initializer())\n",
    "    W2 = tf.get_variable(\"W2\", [12, 25], initializer = tf.contrib.layers.xavier_initializer(seed=1))\n",
    "    b2 = tf.get_variable(\"b2\", [12, 1], initializer = tf.zeros_initializer())\n",
    "    W3 = tf.get_variable(\"W3\", [6, 12], initializer = tf.contrib.layers.xavier_initializer(seed=1))\n",
    "    b3 = tf.get_variable(\"b3\", [6, 1], initializer = tf.zeros_initializer())\n",
    "    parameters = {\"W1\": W1,\n",
    "                  \"b1\": b1,\n",
    "                  \"W2\": W2,\n",
    "                  \"b2\": b2,\n",
    "                  \"W3\": W3,\n",
    "                  \"b3\": b3}\n",
    "    return parameters\n",
    " #用于清除默认图形堆栈并重置全局默认图形。\n",
    " #这些参数只有物理空间，但是还没有被赋值，这是因为没有通过session执行。\n",
    "tf.reset_default_graph()\n",
    "with tf.Session() as sess:\n",
    "    parameters = initialize_parameters()\n",
    "    print(\"W1 = \" + str(parameters[\"W1\"]))\n",
    "    print(\"b1 = \" + str(parameters[\"b1\"]))\n",
    "    print(\"W2 = \" + str(parameters[\"W2\"]))\n",
    "    print(\"b2 = \" + str(parameters[\"b2\"]))\n",
    "    \n",
    "    \n",
    "    \n",
    "    \n",
    "# GRADED FUNCTION: forward_propagation\n",
    "def forward_propagation(X, parameters):   \n",
    "    #前向传播要在Z3处停止，因为在TensorFlow中最后的线性输出层的输出作为计算损失函数的输入，\n",
    "    # 所以不需要A3.    softmax是   e**h(x)/sum(e**h(x))\n",
    "    W1 = parameters['W1']\n",
    "    b1 = parameters['b1']\n",
    "    W2 = parameters['W2']\n",
    "    b2 = parameters['b2']\n",
    "    W3 = parameters['W3']\n",
    "    b3 = parameters['b3']\n",
    "    Z1 = tf.add(tf.matmul(W1,X),b1)        # Z1 = np.dot(W1, X) + b1\n",
    "    #Z1 = tf.matmul(W1,X) + b1             #也可以这样写\n",
    "    A1 = tf.nn.relu(Z1)                    # A1 = relu(Z1)\n",
    "    Z2 = tf.add(tf.matmul(W2, A1), b2)     # Z2 = np.dot(W2, a1) + b2\n",
    "    A2 = tf.nn.relu(Z2)                    # A2 = relu(Z2)\n",
    "    Z3 = tf.add(tf.matmul(W3, A2), b3)     # Z3 = np.dot(W3,Z2) + b3\n",
    "    return Z3\n",
    "\n",
    "\n",
    "\n",
    "# GRADED FUNCTION: compute_cost \n",
    "def compute_cost(Z3, Y):\n",
    "    \"\"\" \n",
    "    Returns:\n",
    "    cost - Tensor of the cost function\n",
    "    \"\"\"\n",
    "    # to fit the tensorflow requirement for tf.nn.softmax_cross_entropy_with_logits(...,...)\n",
    "    logits = tf.transpose(Z3)  #转置\n",
    "    labels = tf.transpose(Y)   #转置\n",
    "    #计算交叉熵成本\n",
    "    cost=tf.reduce_mean(tf.nn.softmax_cross_entropy_with_logits(logits=logits,labels=labels))\n",
    "    return cost"
   ]
  },
  {
   "cell_type": "code",
   "execution_count": 64,
   "metadata": {},
   "outputs": [],
   "source": [
    "def model(X_train, Y_train, X_test, Y_test, learning_rate = 0.0001,\n",
    "          num_epochs = 1500, minibatch_size = 32, print_cost = True):\n",
    "    \"\"\" \n",
    "    Returns:\n",
    "    parameters -- parameters learnt by the model. They can then be used to predict.\n",
    "    \"\"\"\n",
    "    ops.reset_default_graph()                         # to be able to rerun the model without overwriting tf variables\n",
    "    tf.set_random_seed(1)                             # to keep consistent results\n",
    "    seed = 3                                          # to keep consistent results\n",
    "    (n_x, m)=X_train.shape                          # (n_x: input size, m : number of examples in the train set)\n",
    "    n_y=Y_train.shape[0]                            # n_y : output size\n",
    "    costs=[]                                        # To keep track of the cost\n",
    "    \n",
    "    # Create Placeholders of shape (n_x, n_y)\n",
    "    X,Y=create_placeholders(n_x,n_y)\n",
    "\n",
    "    # Initialize parameters\n",
    "    parameters = initialize_parameters()\n",
    "    \n",
    "    # Forward propagation: Build the forward propagation in the tensorflow graph\n",
    "    Z3 = forward_propagation(X,parameters)\n",
    "    \n",
    "    # Cost function: Add cost function to tensorflow graph\n",
    "    cost = compute_cost(Z3,Y)\n",
    "    \n",
    "    #===================important============================ \n",
    "    #===================important============================ \n",
    "    #===================important============================ \n",
    "    # Backpropagation: Define the tensorflow optimizer. Use an AdamOptimizer.\n",
    "    optimizer = tf.train.AdamOptimizer(learning_rate=learning_rate).minimize(cost)\n",
    "    \n",
    "    # Initialize all the variables\n",
    "    init = tf.global_variables_initializer()\n",
    "\n",
    "    # Start the session to compute the tensorflow graph\n",
    "    with tf.Session() as sess:\n",
    "        # Run the initialization\n",
    "        sess.run(init)\n",
    "        \n",
    "        # Do the training loop\n",
    "        for epoch in range(num_epochs):\n",
    "            epoch_cost = 0        # Defines a cost related to an epoch\n",
    "            num_minibatches = int(m / minibatch_size) # number of minibatches of size minibatch_size in the train set\n",
    "            seed = seed + 1\n",
    "            minibatches = random_mini_batches(X_train, Y_train, minibatch_size, seed)\n",
    "\n",
    "            for minibatch in minibatches:\n",
    "                (minibatch_X, minibatch_Y) = minibatch\n",
    "                # IMPORTANT: The line that runs the graph on a minibatch.\n",
    "                #===================important============================ \n",
    "                #===================important============================ \n",
    "                #===================important============================ \n",
    "                #===================important============================ \n",
    "                #===================important============================ \n",
    "                # Run the session to execute the \"optimizer\" and the \"cost\", the feedict should contain a minibatch for (X,Y).\n",
    "                _ , minibatch_cost = sess.run([optimizer,cost],feed_dict={X:minibatch_X,Y:minibatch_Y})\n",
    "                \n",
    "                epoch_cost += minibatch_cost / num_minibatches\n",
    "\n",
    "            # Print the cost every epoch\n",
    "            if epoch % 5 == 0:\n",
    "                costs.append(epoch_cost)\n",
    "                if print_cost and epoch % 100 == 0:\n",
    "                        print(\"epoch = \" + str(epoch) + \"    epoch_cost = \" + str(epoch_cost))\n",
    "\n",
    "        # plot the cost\n",
    "        plt.plot(np.squeeze(costs))\n",
    "        plt.ylabel('cost')\n",
    "        plt.xlabel('iterations (per tens)')\n",
    "        plt.title(\"Learning rate =\" + str(learning_rate))\n",
    "        plt.show()\n",
    "\n",
    "        # lets save the parameters in a variable\n",
    "        parameters = sess.run(parameters)\n",
    "        print (\"Parameters have been trained!\")\n",
    "\n",
    "        # Calculate the correct predictions\n",
    "        correct_prediction = tf.equal(tf.argmax(Z3), tf.argmax(Y))\n",
    "        # Calculate accuracy on the test set\n",
    "        accuracy = tf.reduce_mean(tf.cast(correct_prediction, \"float\"))\n",
    "\n",
    "        print (\"Train Accuracy:\", accuracy.eval({X: X_train, Y: Y_train}))\n",
    "        print (\"Test Accuracy:\", accuracy.eval({X: X_test, Y: Y_test}))\n",
    "        \n",
    "        return parameters"
   ]
  },
  {
   "cell_type": "code",
   "execution_count": 65,
   "metadata": {},
   "outputs": [
    {
     "name": "stdout",
     "output_type": "stream",
     "text": [
      "epoch = 0    epoch_cost = 1.8557019125331533\n"
     ]
    },
    {
     "name": "stdout",
     "output_type": "stream",
     "text": [
      "epoch = 100    epoch_cost = 1.0164577274611502\n"
     ]
    },
    {
     "name": "stdout",
     "output_type": "stream",
     "text": [
      "epoch = 200    epoch_cost = 0.7331024182565286\n"
     ]
    },
    {
     "name": "stdout",
     "output_type": "stream",
     "text": [
      "epoch = 300    epoch_cost = 0.5729390003464437\n"
     ]
    },
    {
     "name": "stdout",
     "output_type": "stream",
     "text": [
      "epoch = 400    epoch_cost = 0.46877381024938647\n"
     ]
    },
    {
     "name": "stdout",
     "output_type": "stream",
     "text": [
      "epoch = 500    epoch_cost = 0.3810153188127459\n"
     ]
    },
    {
     "name": "stdout",
     "output_type": "stream",
     "text": [
      "epoch = 600    epoch_cost = 0.31382895419091894\n"
     ]
    },
    {
     "name": "stdout",
     "output_type": "stream",
     "text": [
      "epoch = 700    epoch_cost = 0.2541691507353927\n"
     ]
    },
    {
     "name": "stdout",
     "output_type": "stream",
     "text": [
      "epoch = 800    epoch_cost = 0.20380747521465473\n"
     ]
    },
    {
     "name": "stdout",
     "output_type": "stream",
     "text": [
      "epoch = 900    epoch_cost = 0.16642917895858936\n"
     ]
    },
    {
     "name": "stdout",
     "output_type": "stream",
     "text": [
      "epoch = 1000    epoch_cost = 0.14096821438182483\n"
     ]
    },
    {
     "name": "stdout",
     "output_type": "stream",
     "text": [
      "epoch = 1100    epoch_cost = 0.10759843445637012\n"
     ]
    },
    {
     "name": "stdout",
     "output_type": "stream",
     "text": [
      "epoch = 1200    epoch_cost = 0.08669052357700738\n"
     ]
    },
    {
     "name": "stdout",
     "output_type": "stream",
     "text": [
      "epoch = 1300    epoch_cost = 0.06101937958914223\n"
     ]
    },
    {
     "name": "stdout",
     "output_type": "stream",
     "text": [
      "epoch = 1400    epoch_cost = 0.05092194857019367\n"
     ]
    },
    {
     "data": {
      "image/png": "[encoded data removed]",
      "text/plain": [
       "<Figure size 432x288 with 1 Axes>"
      ]
     },
     "metadata": {},
     "output_type": "display_data"
    },
    {
     "name": "stdout",
     "output_type": "stream",
     "text": [
      "Parameters have been trained!\n"
     ]
    },
    {
     "name": "stdout",
     "output_type": "stream",
     "text": [
      "Train Accuracy: 0.9990741\nTest Accuracy: 0.725\nCPU Time = 451.8445223 s\n"
     ]
    }
   ],
   "source": [
    "#开始时间\n",
    "start_time = time.clock()\n",
    "#开始训练\n",
    "parameters = model(X_train, Y_train, X_test, Y_test)\n",
    "#结束时间\n",
    "end_time = time.clock()\n",
    "#计算时差\n",
    "print(\"CPU Time = \" + str(end_time - start_time) + \" s\" )\n"
   ]
  },
  {
   "cell_type": "code",
   "execution_count": null,
   "metadata": {},
   "outputs": [],
   "source": []
  }
 ],
 "metadata": {
  "kernelspec": {
   "display_name": "Python 2",
   "language": "python",
   "name": "python2"
  },
  "language_info": {
   "codemirror_mode": {
    "name": "ipython",
    "version": 2
   },
   "file_extension": ".py",
   "mimetype": "text/x-python",
   "name": "python",
   "nbconvert_exporter": "python",
   "pygments_lexer": "ipython2",
   "version": "2.7.6"
  }
 },
 "nbformat": 4,
 "nbformat_minor": 0
}
